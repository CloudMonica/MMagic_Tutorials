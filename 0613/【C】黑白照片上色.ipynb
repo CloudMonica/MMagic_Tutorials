{
 "cells": [
  {
   "cell_type": "markdown",
   "id": "4ee21f0c-c6f0-45a2-aa20-db8bbd47b377",
   "metadata": {},
   "source": [
    "# 黑白照片上色\n",
    "\n",
    "同济子豪兄 2023-6-13\n",
    "\n",
    "https://github.com/open-mmlab/mmagic/tree/main/configs/inst_colorization"
   ]
  },
  {
   "cell_type": "markdown",
   "id": "f57ecb4d-cff0-4597-817f-5c0707f630b1",
   "metadata": {},
   "source": [
    "## 进入 MMagic 主目录"
   ]
  },
  {
   "cell_type": "code",
   "execution_count": 1,
   "id": "051a7e57-5da5-4498-b1e1-f63cb84eab49",
   "metadata": {},
   "outputs": [],
   "source": [
    "import os\n",
    "os.chdir('mmagic')"
   ]
  },
  {
   "cell_type": "markdown",
   "id": "a314c658-c9c3-43d1-b55c-4bf0237774aa",
   "metadata": {},
   "source": [
    "## 下载样例图片"
   ]
  },
  {
   "cell_type": "code",
   "execution_count": 3,
   "id": "0509b658-f1e6-4627-ba4a-814e3a5e4cbc",
   "metadata": {},
   "outputs": [],
   "source": [
    "!wget https://zihao-openmmlab.obs.cn-east-3.myhuaweicloud.com/20230613-MMagic/data/test_colorization.jpg -O test_colorization.jpg"
   ]
  },
  {
   "cell_type": "markdown",
   "id": "b1a794fd-2981-4709-9da5-f349d8a5073b",
   "metadata": {},
   "source": [
    "## 运行预测"
   ]
  },
  {
   "cell_type": "code",
   "execution_count": 2,
   "id": "0502fe9b-f3ea-4975-b4b0-9a22bbdeee53",
   "metadata": {},
   "outputs": [
    {
     "name": "stdout",
     "output_type": "stream",
     "text": [
      "2023-06-13 16:49:18.446467: I tensorflow/core/platform/cpu_feature_guard.cc:193] This TensorFlow binary is optimized with oneAPI Deep Neural Network Library (oneDNN) to use the following CPU instructions in performance-critical operations:  AVX2 FMA\n",
      "To enable them in other operations, rebuild TensorFlow with the appropriate compiler flags.\n",
      "2023-06-13 16:49:19.465025: W tensorflow/compiler/xla/stream_executor/platform/default/dso_loader.cc:64] Could not load dynamic library 'libnvinfer.so.7'; dlerror: libnvinfer.so.7: cannot open shared object file: No such file or directory; LD_LIBRARY_PATH: /environment/miniconda3/lib/python3.8/site-packages/cv2/../../lib64:\n",
      "2023-06-13 16:49:19.465134: W tensorflow/compiler/xla/stream_executor/platform/default/dso_loader.cc:64] Could not load dynamic library 'libnvinfer_plugin.so.7'; dlerror: libnvinfer_plugin.so.7: cannot open shared object file: No such file or directory; LD_LIBRARY_PATH: /environment/miniconda3/lib/python3.8/site-packages/cv2/../../lib64:\n",
      "2023-06-13 16:49:19.465153: W tensorflow/compiler/tf2tensorrt/utils/py_utils.cc:38] TF-TRT Warning: Cannot dlopen some TensorRT libraries. If you would like to use Nvidia GPU with TensorRT, please make sure the missing libraries mentioned above are installed properly.\n",
      "Loads checkpoint by http backend from path: https://download.openmmlab.com/mmediting/inst_colorization/inst-colorizatioon_full_official_cocostuff-256x256-5b9d4eee.pth\n",
      "06/13 16:49:26 - mmengine - \u001b[5m\u001b[4m\u001b[33mWARNING\u001b[0m - Failed to search registry with scope \"mmagic\" in the \"function\" registry tree. As a workaround, the current \"function\" registry in \"mmengine\" is used to build instance. This may cause unexpected failure when running the built modules. Please check whether \"mmagic\" is a correct scope, or whether the registry is initialized.\n",
      "06/13 16:49:26 - mmengine - \u001b[5m\u001b[4m\u001b[33mWARNING\u001b[0m - `Visualizer` backend is not initialized because save_dir is None.\n",
      "Loads checkpoint by http backend from path: https://download.openmmlab.com/mmdetection/v2.0/mask_rcnn/mask_rcnn_x101_32x8d_fpn_mstrain-poly_3x_coco/mask_rcnn_x101_32x8d_fpn_mstrain-poly_3x_coco_20210607_161042-8bd2c639.pth\n",
      "Downloading: \"https://download.openmmlab.com/mmdetection/v2.0/mask_rcnn/mask_rcnn_x101_32x8d_fpn_mstrain-poly_3x_coco/mask_rcnn_x101_32x8d_fpn_mstrain-poly_3x_coco_20210607_161042-8bd2c639.pth\" to /home/featurize/.cache/torch/hub/checkpoints/mask_rcnn_x101_32x8d_fpn_mstrain-poly_3x_coco_20210607_161042-8bd2c639.pth\n",
      "100%|████████████████████████████████████████| 411M/411M [00:47<00:00, 9.14MB/s]\n",
      "/environment/miniconda3/lib/python3.8/site-packages/torch/nn/functional.py:3631: UserWarning: Default upsampling behavior when mode=bilinear is changed to align_corners=False since 0.4.0. Please specify align_corners=True if the old behavior is desired. See the documentation of nn.Upsample for details.\n",
      "  warnings.warn(\n"
     ]
    }
   ],
   "source": [
    "!python demo/mmagic_inference_demo.py \\\n",
    "        --model-name inst_colorization \\\n",
    "        --img test_colorization.jpg \\\n",
    "        --result-out-dir out_colorization.png"
   ]
  },
  {
   "cell_type": "code",
   "execution_count": null,
   "id": "5a97bdaa-82eb-43ab-a6c8-148da162da1b",
   "metadata": {},
   "outputs": [],
   "source": []
  }
 ],
 "metadata": {
  "kernelspec": {
   "display_name": "Python 3 (ipykernel)",
   "language": "python",
   "name": "python3"
  },
  "language_info": {
   "codemirror_mode": {
    "name": "ipython",
    "version": 3
   },
   "file_extension": ".py",
   "mimetype": "text/x-python",
   "name": "python",
   "nbconvert_exporter": "python",
   "pygments_lexer": "ipython3",
   "version": "3.8.11"
  }
 },
 "nbformat": 4,
 "nbformat_minor": 5
}
